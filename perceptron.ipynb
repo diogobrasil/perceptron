{
 "cells": [
  {
   "cell_type": "markdown",
   "id": "67ef2ced",
   "metadata": {},
   "source": [
    "#  Introdução ao modelo de Perceptron\n",
    "\n",
    "## Estrutura Básica"
   ]
  },
  {
   "cell_type": "markdown",
   "id": "ef66ff32",
   "metadata": {},
   "source": [
    "# Aplicação do Perceptron aos problemas lógicos OR e AND"
   ]
  },
  {
   "cell_type": "markdown",
   "id": "7d6e0fc6",
   "metadata": {},
   "source": [
    "# Discussão do problema XOR e suas implicações para a evolução das redes neurais "
   ]
  }
 ],
 "metadata": {
  "language_info": {
   "name": "python"
  }
 },
 "nbformat": 4,
 "nbformat_minor": 5
}
